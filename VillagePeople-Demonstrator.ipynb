{
 "cells": [
  {
   "cell_type": "markdown",
   "metadata": {},
   "source": [
    "# \"Where did the Village People go?\"\n",
    "## Demonstrator\n",
    "Here the some of the results from the code will be visulalized on a interactive map via folium."
   ]
  },
  {
   "cell_type": "markdown",
   "metadata": {},
   "source": [
    "## Setting Up Workshop"
   ]
  },
  {
   "cell_type": "markdown",
   "metadata": {},
   "source": [
    "### General Libraries"
   ]
  },
  {
   "cell_type": "code",
   "execution_count": 30,
   "metadata": {},
   "outputs": [],
   "source": [
    "# Array and Array-Math\n",
    "import numpy as np\n",
    "# DataFrames\n",
    "import pandas as pd\n",
    "# Geospatial Visualization I\n",
    "import geopandas as gp\n",
    "# Geospatial Visualization II\n",
    "import folium"
   ]
  },
  {
   "cell_type": "code",
   "execution_count": 31,
   "metadata": {},
   "outputs": [],
   "source": [
    "# This Function Takes the name of a Dataset from Open Data Soft, downloads the GeoJson and turns it into a Geopanda.\n",
    "def geo_from_ods(title):\n",
    "    path  = \"https://public.opendatasoft.com/explore/dataset/\"+title+\"/download/?format=geojson\"\n",
    "    geods = gp.read_file(filename = path)\n",
    "    return geods"
   ]
  },
  {
   "cell_type": "markdown",
   "metadata": {},
   "source": [
    "## Import and Clean Data"
   ]
  },
  {
   "cell_type": "markdown",
   "metadata": {},
   "source": [
    "### Geospatial Data"
   ]
  },
  {
   "cell_type": "code",
   "execution_count": 32,
   "metadata": {},
   "outputs": [],
   "source": [
    "# Geospatial Information\n",
    "geo_sta_cln = geo_from_ods(\"bundesland\")\n",
    "geo_dis_cln = geo_from_ods(\"landkreise-in-germany\")"
   ]
  },
  {
   "cell_type": "code",
   "execution_count": 33,
   "metadata": {},
   "outputs": [],
   "source": [
    "# Find Göttingen \n",
    "indx_goe = geo_dis_cln[geo_dis_cln.name_2 == \"Göttingen\"].index[0]\n",
    "# Find Osterode am Harz\n",
    "indx_oah = geo_dis_cln[geo_dis_cln.name_2 == \"Osterode am Harz\"].index[0]\n",
    "# Göttingen and Oseterode am Harz the new District Code\n",
    "geo_dis_cln.loc[indx_goe,\"cca_2\"] = '03159'\n",
    "geo_dis_cln.loc[indx_oah,\"cca_2\"] = '03159'\n",
    "# Merge Shapes by Code\n",
    "geo_dis_cln = geo_dis_cln.dissolve(by='cca_2')\n",
    "geo_dis_cln = geo_dis_cln.reset_index()"
   ]
  },
  {
   "cell_type": "code",
   "execution_count": 34,
   "metadata": {},
   "outputs": [],
   "source": [
    "# District Level\n",
    "geo_dis_cln = geo_dis_cln.loc[:,[\"cca_2\", \"geometry\"]]\n",
    "geo_dis_cln.columns = [\"code\",\"geo\"]"
   ]
  },
  {
   "cell_type": "markdown",
   "metadata": {},
   "source": [
    "### Results from predictive modelling"
   ]
  },
  {
   "cell_type": "code",
   "execution_count": 35,
   "metadata": {},
   "outputs": [],
   "source": [
    "# Import the chosen results from the Predictive Modeling\n",
    "data_demo = pd.read_csv(filepath_or_buffer = \"data_demo.csv\")"
   ]
  },
  {
   "cell_type": "code",
   "execution_count": 36,
   "metadata": {},
   "outputs": [],
   "source": [
    "# Prepare District Code for Merging\n",
    "code = np.floor(data_demo.code/1000).astype(int).astype(str)\n",
    "for idx in code.index:\n",
    "    if len(code[idx]) == 4:\n",
    "        code[idx] = \"0\" + code[idx]\n",
    "    else:\n",
    "        pass\n",
    "code         = pd.DataFrame(code)\n",
    "data_demo.code = code"
   ]
  },
  {
   "cell_type": "markdown",
   "metadata": {},
   "source": [
    "### Merge Data"
   ]
  },
  {
   "cell_type": "code",
   "execution_count": 37,
   "metadata": {},
   "outputs": [],
   "source": [
    "# Merge Districts\n",
    "data_dis = geo_dis_cln.merge(data_demo, on = \"code\", how = \"inner\")\n",
    "# Merge into One\n",
    "data = data_dis.append(data_sta, sort = False).reset_index(drop = True)\n",
    "data = gp.GeoDataFrame(data, geometry = \"geo\")"
   ]
  },
  {
   "cell_type": "markdown",
   "metadata": {},
   "source": [
    "### Create HTML Demonstrator"
   ]
  },
  {
   "cell_type": "markdown",
   "metadata": {},
   "source": [
    "<img src = \"./img/Clusters.png\" />"
   ]
  },
  {
   "cell_type": "code",
   "execution_count": 38,
   "metadata": {},
   "outputs": [],
   "source": [
    "# Set Up Folium Map\n",
    "map_demo = folium.Map(location=[51,9],zoom_start=6)\n",
    "   \n",
    "# Define Style Functions, colors as seen above\n",
    "sf_N = lambda x: {'fillColor': 'blue',\n",
    "                     'fillOpacity': 0.50,\n",
    "                     'color': \"blue\",\n",
    "                     'opacity': 0.5,\n",
    "                     'weight' : 2}\n",
    "sf_M = lambda x: {'fillColor': 'orange',\n",
    "                     'fillOpacity': 0.50,\n",
    "                     'color': 'orange',\n",
    "                     'opacity': 0.5,\n",
    "                     'weight' : 2}\n",
    "sf_R = lambda x: {'fillColor': 'green',\n",
    "                     'fillOpacity': 0.50,\n",
    "                     'color': 'green',\n",
    "                     'opacity': 0.5,\n",
    "                     'weight' : 2}\n",
    "sf_A = lambda x: {'fillColor': 'red',\n",
    "                     'fillOpacity': 0.50,\n",
    "                     'color': 'red',\n",
    "                     'opacity': 0.5,\n",
    "                     'weight' : 2}\n",
    "sf_X = lambda x: {'fillColor': 'black',\n",
    "                     'fillOpacity': 0.50,\n",
    "                     'color': 'black',\n",
    "                     'opacity': 0.5,\n",
    "                     'weight' : 2}\n",
    "\n",
    "# Draw Overlays\n",
    "for idx in data.index:\n",
    "    if data.mig_profile[idx] == 0:\n",
    "        layer = folium.GeoJson(data.geo[idx],style_function = sf_N)\n",
    "        folium.Popup(\"<table><tr><td><b>\"+ data.name[idx]+\"</b></td><td>EDU - Neutral</td></tr><tr><td><b>2018</b></td><td>\"+ str(int(data.pred_2018[idx]))+\"</td></tr><tr><td><b>2022</b></td><td>\"+ str(int(data.pred_2022[idx])) + \"</td></tr><tr><td><b>....</b></td><td>....</td></tr><tr><td><b>2026</b></td><td>\"+ str(int(data.pred_2026[idx]))+\"</td></tr></table>\").add_to(layer)\n",
    "        layer.add_to(map_demo)                \n",
    "    elif data.mig_profile[idx] == 1:\n",
    "        layer = folium.GeoJson(data.geo[idx],style_function = sf_M)\n",
    "        folium.Popup(\"<table><tr><td><b>\"+ data.name[idx]+\"</b></td><td>EDU - Magnet</td></tr><tr><td><b>2018</b></td><td>\"+ str(int(data.pred_2018[idx]))+\"</td></tr><tr><td><b>2022</b></td><td>\"+ str(int(data.pred_2022[idx])) + \"</td></tr><tr><td><b>....</b></td><td>....</td></tr><tr><td><b>2026</b></td><td>\"+ str(int(data.pred_2026[idx]))+\"</td></tr></table>\").add_to(layer)\n",
    "        layer.add_to(map_demo)  \n",
    "    elif data.mig_profile[idx] == 2:\n",
    "        layer = folium.GeoJson(data.geo[idx],style_function = sf_R)\n",
    "        folium.Popup(\"<table><tr><td><b>\"+ data.name[idx]+\"</b></td><td>EDU - Repulsing</td></tr><tr><td><b>2018</b></td><td>\"+ str(int(data.pred_2018[idx]))+\"</td></tr><tr><td><b>2022</b></td><td>\"+ str(int(data.pred_2022[idx])) + \"</td></tr><tr><td><b>....</b></td><td>....</td></tr><tr><td><b>2026</b></td><td>\"+ str(int(data.pred_2026[idx]))+\"</td></tr></table>\").add_to(layer)\n",
    "        layer.add_to(map_demo)\n",
    "    elif data.mig_profile[idx] == 3:\n",
    "        layer = folium.GeoJson(data.geo[idx],style_function = sf_A)\n",
    "        folium.Popup(\"<table><tr><td><b>\"+ data.name[idx]+\"</b></td><td>EDU - Attracting</td></tr><tr><td><b>2018</b></td><td>\"+ str(int(data.pred_2018[idx]))+\"</td></tr><tr><td><b>2022</b></td><td>\"+ str(int(data.pred_2022[idx])) + \"</td></tr><tr><td><b>....</b></td><td>....</td></tr><tr><td><b>2026</b></td><td>\"+ str(int(data.pred_2026[idx]))+\"</td></tr></table>\").add_to(layer)\n",
    "        layer.add_to(map_demo)\n",
    "\n",
    "# Add Overlas to Map\n",
    "folium.LayerControl().add_to(map_demo)\n",
    "\n",
    "# Save Map\n",
    "map_demo.save('vp_demo.html')"
   ]
  }
 ],
 "metadata": {
  "kernelspec": {
   "display_name": "Python 3",
   "language": "python",
   "name": "python3"
  },
  "language_info": {
   "codemirror_mode": {
    "name": "ipython",
    "version": 3
   },
   "file_extension": ".py",
   "mimetype": "text/x-python",
   "name": "python",
   "nbconvert_exporter": "python",
   "pygments_lexer": "ipython3",
   "version": "3.7.6"
  }
 },
 "nbformat": 4,
 "nbformat_minor": 2
}
