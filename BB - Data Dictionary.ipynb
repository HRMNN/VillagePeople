{
 "cells": [
  {
   "cell_type": "markdown",
   "metadata": {},
   "source": [
    "# Where did the Village People go?\n",
    "## Data Dictionary"
   ]
  },
  {
   "cell_type": "markdown",
   "metadata": {},
   "source": [
    "|Index|Category|Sub-Category|Feature|Source|Datatype|Decription|Source|\n",
    "|-|-|-|-|-|-|-|-|\n",
    "|0|GEO||geo|original|geoshape|Area of Administrative Unit|opendatasoft.com|\n",
    "|1|ORDER||level|derived|int|Administrative Level|derived from .gkz|\n",
    "|2|ID||name|original|strings|Name of Administrative Unit|Wegweiser Kommune|\n",
    "|3|ID||gkz|original|int|official identifiing number|Wegweiser Kommune|\n",
    "|4|TYPE||demtype|original|int|Demographic Type|Wegweiser Kommune|\n",
    "|5|ID||state|derived|int|state of district/ municipality|derived from .gkz|\n",
    "|6|||district|derived|int|district identifiing number|derived from .gkz|\n",
    "|7|||municipality|derived|int|municipality identifiing number|derived from .gkz|\n",
    "|8-19|POPULATION||pop_|original|float|population on the 31.12.|Wegweiser Kommune|\n",
    "|20-32|EDUCATION||nodegree_|original|float|% nodegree-graduates / total-graduates|Wegweiser Kommune|\n",
    "|32-43|||alevel_|original|float|% highschool-graduates / total-graduates|Wegweiser Kommune|\n",
    "|44-55|MIGRATION|TOTAL|immi_|original|float|Immigrants per 1000|Wegweiser Kommune|\n",
    "|56-67|||emmi_|original|float|Emmigrants per 1000|Wegweiser Kommune|\n",
    "|68-79|||ei_balance_|original|float|Pop Move Balance per 1000|Wegweiser Kommune|\n",
    "|80-91||BY AGE|fam_balance_|original|float|Age below 18 and 30-49 Move Balance per 1000|Wegweiser Kommune|\n",
    "|92-103|||edu_balance_|original|float|Age 18-24 Move Balance per 1000|Wegweiser Kommune|\n",
    "|104-115|||sec_balance_|original|float|Age 50-64 Move Balance per 1000|Wegweiser Kommune|\n",
    "|116-127|||ger_balance_|original|float|Age over 65 Move Balance per 1000|Wegweiser Kommune|\n",
    "|128-139|COMMUTING|TOTAL BY MSI|com_in_per_svb_|original|float|% of mandatory socially insured (MSI) commuting in|Wegweiser Kommune|\n",
    "|140-151|||com_out_per_svb_|original|float|% of mandatory socially insured (MSI) commuting out|Wegweiser Kommune|\n",
    "|152-163||TOTAL BY POP|com_blc_per_pop_|original|float|commuter balance of total population per 100|Wegweiser Kommune|\n",
    "|164-175|||com_in_per_pop_|original|float|commuting in of total population per 100|Wegweiser Kommune|\n",
    "|176-187|||com_out_per_pop_|original|float|commuting out of total population per 100|Wegweiser Kommune|\n",
    "|188-199||GENDER|com_in_svb_fem_|original|float|women commuting in of MSI per 100|Wegweiser Kommune|\n",
    "|200-211|||com_in_svb_men_|original|float|men commuting in of MSI per 100|Wegweiser Kommune|\n",
    "|212-223|||com_out_svb_fem_|original|float|women commuting out of MSI per 100|Wegweiser Kommune|\n",
    "|224-235|||com_out_svb_men_|original|float|men commuting out of MSI per 100|Wegweiser Kommune|\n",
    "|236-247|||com_blc_pop_fem_|original|float|balance of women commuting of total population per 100|Wegweiser Kommune|\n",
    "|248-259|||com_blc_pop_men_|original|float|balance of men commuting of total population per 100|Wegweiser Kommune|"
   ]
  },
  {
   "cell_type": "code",
   "execution_count": null,
   "metadata": {},
   "outputs": [],
   "source": []
  }
 ],
 "metadata": {
  "kernelspec": {
   "display_name": "Python 3",
   "language": "python",
   "name": "python3"
  },
  "language_info": {
   "codemirror_mode": {
    "name": "ipython",
    "version": 3
   },
   "file_extension": ".py",
   "mimetype": "text/x-python",
   "name": "python",
   "nbconvert_exporter": "python",
   "pygments_lexer": "ipython3",
   "version": "3.7.6"
  }
 },
 "nbformat": 4,
 "nbformat_minor": 2
}
