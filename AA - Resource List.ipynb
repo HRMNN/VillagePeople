{
 "cells": [
  {
   "cell_type": "markdown",
   "metadata": {},
   "source": [
    "# Where did the Village People go?\n",
    "- For contractual reasons, Resource 1 is not pushed up.<br>\n",
    "- Visualizing the municipality level geospatially will be pushed to \"Future Work\", since Resource 1 only supplies Data for Municipalities with more than 5000 inhabitants. Then Resource 5 will be utilized.<br><br>\n",
    "\n",
    "## Resource List\n",
    "|Number|Name|Purpose|Source|\n",
    "|-|-|-|-|\n",
    "|1|Bertelsmann Dataset|Demographic Data|Bertelsmann Stiftung|\n",
    "|2|european-union-countries|Geospatial Data - National Level|public.opendatasoft.com/|\n",
    "|3|bundesland|Geospatial Data - State Level|Bundesamt für Kartographie und Geodäsie via public.opendatasoft.com/|\n",
    "|4|landkreise-in-germany|Geospatial Data - District Level|public.opendatasoft.com/|\n",
    "|5|gemeinde|Geospatial Data - Municipality Level|Bundesamt für Kartographie und Geodäsie via public.opendatasoft.com/|"
   ]
  }
 ],
 "metadata": {
  "kernelspec": {
   "display_name": "Python 3",
   "language": "python",
   "name": "python3"
  },
  "language_info": {
   "codemirror_mode": {
    "name": "ipython",
    "version": 3
   },
   "file_extension": ".py",
   "mimetype": "text/x-python",
   "name": "python",
   "nbconvert_exporter": "python",
   "pygments_lexer": "ipython3",
   "version": "3.7.6"
  }
 },
 "nbformat": 4,
 "nbformat_minor": 2
}
